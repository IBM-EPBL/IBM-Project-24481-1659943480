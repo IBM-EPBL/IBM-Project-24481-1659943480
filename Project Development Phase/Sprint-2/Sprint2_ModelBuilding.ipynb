{
  "nbformat": 4,
  "nbformat_minor": 0,
  "metadata": {
    "colab": {
      "provenance": [],
      "collapsed_sections": [
        "4zz6vB2i5FP_"
      ]
    },
    "kernelspec": {
      "name": "python3",
      "display_name": "Python 3"
    },
    "language_info": {
      "name": "python"
    }
  },
  "cells": [
    {
      "cell_type": "markdown",
      "source": [
        "## Sprint 2: Model Building"
      ],
      "metadata": {
        "id": "uhXrnEpJz_AS"
      }
    },
    {
      "cell_type": "markdown",
      "source": [
        "## Importing the required libraries"
      ],
      "metadata": {
        "id": "a2LF9SZ70UJX"
      }
    },
    {
      "cell_type": "code",
      "execution_count": 1,
      "metadata": {
        "id": "Lm-aw-aVyou2"
      },
      "outputs": [],
      "source": [
        "import numpy as np\n",
        "import matplotlib.pyplot as plt   # For Data Visualization\n",
        "import tensorflow   # An open-source library used for Machine Learning and Deep Learning Computations\n",
        "from tensorflow.keras import layers\n",
        "from tensorflow.keras.layers import Dense, Flatten\n",
        "from tensorflow.keras.layers import Conv2D\n",
        "from tensorflow.keras.models import Sequential\n",
        "from keras.utils import np_utils\n",
        "from keras.optimizers import Adam"
      ]
    },
    {
      "cell_type": "markdown",
      "source": [
        "## Importing MNIST Dataset"
      ],
      "metadata": {
        "id": "4XqkO0mu2Z_c"
      }
    },
    {
      "cell_type": "code",
      "source": [
        "from tensorflow.keras.datasets import mnist"
      ],
      "metadata": {
        "id": "4kVwbMEx2cYV"
      },
      "execution_count": 2,
      "outputs": []
    },
    {
      "cell_type": "markdown",
      "source": [
        "## Data Preprocessing"
      ],
      "metadata": {
        "id": "k5fDlGHv0eXu"
      }
    },
    {
      "cell_type": "code",
      "source": [
        "# Load and Split data for training and testing\n",
        "(X_train, y_train), (X_test, y_test) = mnist.load_data()\n",
        "\n",
        "# reshaping the data\n",
        "X_train = X_train.reshape(60000, 28, 28, 1).astype('float32')\n",
        "X_test = X_test.reshape(10000, 28, 28, 1).astype('float32')\n",
        "\n",
        "# one-hot encoding\n",
        "no_of_classes = 10\n",
        "y_train = np_utils.to_categorical(y_train, no_of_classes)\n",
        "y_test = np_utils.to_categorical(y_test, no_of_classes)"
      ],
      "metadata": {
        "id": "9_ajIZgn0ji8",
        "colab": {
          "base_uri": "https://localhost:8080/"
        },
        "outputId": "e7fcccde-7f67-4c3a-8647-8d0671e754f4"
      },
      "execution_count": 3,
      "outputs": [
        {
          "output_type": "stream",
          "name": "stdout",
          "text": [
            "Downloading data from https://storage.googleapis.com/tensorflow/tf-keras-datasets/mnist.npz\n",
            "11490434/11490434 [==============================] - 1s 0us/step\n"
          ]
        }
      ]
    },
    {
      "cell_type": "markdown",
      "source": [
        "## Add CNN Layers"
      ],
      "metadata": {
        "id": "tDoAbdYR0is-"
      }
    },
    {
      "cell_type": "code",
      "source": [
        "# Create model\n",
        "model = Sequential()"
      ],
      "metadata": {
        "id": "woPIk75O0pav"
      },
      "execution_count": 4,
      "outputs": []
    },
    {
      "cell_type": "code",
      "source": [
        "# Adding Model Layer\n",
        "model.add(Conv2D(64, (3, 3), input_shape=(28, 28, 1), activation='relu'))\n",
        "model.add(Conv2D(32, (3, 3), activation = 'relu'))"
      ],
      "metadata": {
        "id": "qsn2dwfoHAkU"
      },
      "execution_count": 5,
      "outputs": []
    },
    {
      "cell_type": "code",
      "source": [
        "# Flatten image dimensions\n",
        "model.add(Flatten())"
      ],
      "metadata": {
        "id": "hqPNkr6gHI-G"
      },
      "execution_count": 6,
      "outputs": []
    },
    {
      "cell_type": "code",
      "source": [
        "# Add output layer\n",
        "model.add(Dense(no_of_classes, activation='softmax'))"
      ],
      "metadata": {
        "id": "yVzd_ABrHQJu"
      },
      "execution_count": 7,
      "outputs": []
    },
    {
      "cell_type": "markdown",
      "source": [
        "## Compiling the Model"
      ],
      "metadata": {
        "id": "Sp5xvTB70p6f"
      }
    },
    {
      "cell_type": "code",
      "source": [
        "model.compile(loss='categorical_crossentropy', optimizer=\"Adam\", metrics=['accuracy'])"
      ],
      "metadata": {
        "id": "R5qArYRT4jNr"
      },
      "execution_count": 8,
      "outputs": []
    },
    {
      "cell_type": "code",
      "source": [
        "X_train = np.asarray(X_train)\n",
        "y_train = np.asarray(y_train)"
      ],
      "metadata": {
        "id": "ydM1pG_AtlAM"
      },
      "execution_count": 9,
      "outputs": []
    },
    {
      "cell_type": "markdown",
      "source": [
        "## Training the Model"
      ],
      "metadata": {
        "id": "4zz6vB2i5FP_"
      }
    },
    {
      "cell_type": "code",
      "source": [
        "model.fit(X_train, y_train, validation_data=(X_test, y_test), epochs=5, batch_size=32)"
      ],
      "metadata": {
        "colab": {
          "base_uri": "https://localhost:8080/"
        },
        "id": "tbcSnUv65H11",
        "outputId": "e26a3a97-c3a9-4c49-b6ad-6cc47d412ae9"
      },
      "execution_count": 10,
      "outputs": [
        {
          "output_type": "stream",
          "name": "stdout",
          "text": [
            "Epoch 1/5\n",
            "1875/1875 [==============================] - 195s 103ms/step - loss: 0.2417 - accuracy: 0.9507 - val_loss: 0.0860 - val_accuracy: 0.9740\n",
            "Epoch 2/5\n",
            "1875/1875 [==============================] - 191s 102ms/step - loss: 0.0694 - accuracy: 0.9790 - val_loss: 0.1049 - val_accuracy: 0.9697\n",
            "Epoch 3/5\n",
            "1875/1875 [==============================] - 193s 103ms/step - loss: 0.0503 - accuracy: 0.9839 - val_loss: 0.0902 - val_accuracy: 0.9766\n",
            "Epoch 4/5\n",
            "1875/1875 [==============================] - 192s 102ms/step - loss: 0.0402 - accuracy: 0.9873 - val_loss: 0.0904 - val_accuracy: 0.9802\n",
            "Epoch 5/5\n",
            "1875/1875 [==============================] - 195s 104ms/step - loss: 0.0321 - accuracy: 0.9899 - val_loss: 0.1086 - val_accuracy: 0.9755\n"
          ]
        },
        {
          "output_type": "execute_result",
          "data": {
            "text/plain": [
              "<keras.callbacks.History at 0x7f260c9bc510>"
            ]
          },
          "metadata": {},
          "execution_count": 10
        }
      ]
    },
    {
      "cell_type": "markdown",
      "source": [
        "## Metrics after Training"
      ],
      "metadata": {
        "id": "nnqueyGL5UAx"
      }
    },
    {
      "cell_type": "code",
      "source": [
        "metrics = model.evaluate(X_test, y_test, verbose=0)\n",
        "print('Test Accuracy: ', metrics[1])\n",
        "print('Test Loss: ', metrics[0])"
      ],
      "metadata": {
        "colab": {
          "base_uri": "https://localhost:8080/"
        },
        "id": "x3lu03tM5b62",
        "outputId": "1eb8899a-4cb4-419c-ad7b-d11964a8825d"
      },
      "execution_count": 11,
      "outputs": [
        {
          "output_type": "stream",
          "name": "stdout",
          "text": [
            "Test Accuracy:  0.9754999876022339\n",
            "Test Loss:  0.10858014971017838\n"
          ]
        }
      ]
    },
    {
      "cell_type": "markdown",
      "source": [
        "## Model Testing\n"
      ],
      "metadata": {
        "id": "eNd5YuPTAsfT"
      }
    },
    {
      "cell_type": "code",
      "source": [
        "prediction = model.predict(X_test[:4])\n",
        "print(prediction)"
      ],
      "metadata": {
        "id": "GdnwQfTuRYZr",
        "colab": {
          "base_uri": "https://localhost:8080/"
        },
        "outputId": "c68ac732-0594-46cf-b86f-82905bac7f31"
      },
      "execution_count": 18,
      "outputs": [
        {
          "output_type": "stream",
          "name": "stdout",
          "text": [
            "1/1 [==============================] - 0s 22ms/step\n",
            "[[2.07057356e-14 8.30734594e-18 3.57438731e-12 9.87902316e-10\n",
            "  9.58776582e-20 3.72018018e-19 1.08355242e-17 1.00000000e+00\n",
            "  1.24084814e-12 2.74670586e-12]\n",
            " [2.69013967e-08 9.79363923e-10 9.99999881e-01 1.57537627e-08\n",
            "  1.19957999e-13 2.94362625e-13 1.08572380e-07 3.48724142e-15\n",
            "  1.02734724e-10 7.42541692e-16]\n",
            " [4.79320725e-08 9.98513639e-01 1.23325890e-05 4.92669772e-09\n",
            "  2.17431971e-05 2.88649653e-06 6.14164151e-08 1.79028731e-07\n",
            "  1.44907669e-03 7.20998053e-11]\n",
            " [9.99997258e-01 2.02756844e-16 5.03159159e-09 2.53589966e-12\n",
            "  9.11328513e-11 1.71382963e-10 3.88559185e-09 2.34050314e-11\n",
            "  3.65713748e-09 2.77833919e-06]]\n"
          ]
        }
      ]
    },
    {
      "cell_type": "code",
      "source": [
        "plt.imshow(tensorflow.squeeze(X_test[1]))"
      ],
      "metadata": {
        "colab": {
          "base_uri": "https://localhost:8080/",
          "height": 282
        },
        "id": "hgcJfENEsems",
        "outputId": "6311ef13-5c07-4fc8-c3f2-676a5c77fee2"
      },
      "execution_count": 19,
      "outputs": [
        {
          "output_type": "execute_result",
          "data": {
            "text/plain": [
              "<matplotlib.image.AxesImage at 0x7f26088f5ad0>"
            ]
          },
          "metadata": {},
          "execution_count": 19
        },
        {
          "output_type": "display_data",
          "data": {
            "text/plain": [
              "<Figure size 432x288 with 1 Axes>"
            ],
            "image/png": "[encoded data removed]"
          },
          "metadata": {
            "needs_background": "light"
          }
        }
      ]
    },
    {
      "cell_type": "code",
      "source": [
        "print(np.argmax(prediction, axis=1))"
      ],
      "metadata": {
        "id": "dr5WO-CGRZ1n",
        "colab": {
          "base_uri": "https://localhost:8080/"
        },
        "outputId": "b8fe9960-02fb-419b-ad5e-86d53661ca05"
      },
      "execution_count": 20,
      "outputs": [
        {
          "output_type": "stream",
          "name": "stdout",
          "text": [
            "[7 2 1 0]\n"
          ]
        }
      ]
    },
    {
      "cell_type": "code",
      "source": [
        "# np.argmax(y_test[5100:5101])\n",
        "print(y_test[:4])"
      ],
      "metadata": {
        "id": "V96yeb4et62T",
        "colab": {
          "base_uri": "https://localhost:8080/"
        },
        "outputId": "6a83f24a-9a60-4b16-cba6-f9415e34f43b"
      },
      "execution_count": 21,
      "outputs": [
        {
          "output_type": "stream",
          "name": "stdout",
          "text": [
            "[[0. 0. 0. 0. 0. 0. 0. 1. 0. 0.]\n",
            " [0. 0. 1. 0. 0. 0. 0. 0. 0. 0.]\n",
            " [0. 1. 0. 0. 0. 0. 0. 0. 0. 0.]\n",
            " [1. 0. 0. 0. 0. 0. 0. 0. 0. 0.]]\n"
          ]
        }
      ]
    },
    {
      "cell_type": "code",
      "source": [
        "print(np.argmax(y_test[1]))"
      ],
      "metadata": {
        "colab": {
          "base_uri": "https://localhost:8080/"
        },
        "id": "o3nuM6TWONMl",
        "outputId": "5308148f-dc4f-4081-887f-e61080bfce0d"
      },
      "execution_count": 22,
      "outputs": [
        {
          "output_type": "stream",
          "name": "stdout",
          "text": [
            "2\n"
          ]
        }
      ]
    },
    {
      "cell_type": "code",
      "source": [
        "prediction2 = model.predict(X_test[6000:6001])\n",
        "print(prediction2)"
      ],
      "metadata": {
        "colab": {
          "base_uri": "https://localhost:8080/"
        },
        "id": "Hci3YFrSOYx6",
        "outputId": "4bc42de9-8c40-4897-fc8b-30fc7e0f5e77"
      },
      "execution_count": 23,
      "outputs": [
        {
          "output_type": "stream",
          "name": "stdout",
          "text": [
            "1/1 [==============================] - 0s 20ms/step\n",
            "[[9.9830235e-13 6.3287729e-16 4.7819198e-13 3.2623852e-06 2.4456109e-05\n",
            "  4.5697340e-07 3.1150005e-15 1.3018149e-02 2.5506595e-05 9.8692816e-01]]\n"
          ]
        }
      ]
    },
    {
      "cell_type": "code",
      "source": [
        "plt.imshow(tensorflow.squeeze(X_test[5100]))"
      ],
      "metadata": {
        "colab": {
          "base_uri": "https://localhost:8080/",
          "height": 282
        },
        "id": "Xn9zD1jYOwXP",
        "outputId": "ef980ae5-ab2b-4adc-e8cc-17f4cff8b639"
      },
      "execution_count": 24,
      "outputs": [
        {
          "output_type": "execute_result",
          "data": {
            "text/plain": [
              "<matplotlib.image.AxesImage at 0x7f260c597d50>"
            ]
          },
          "metadata": {},
          "execution_count": 24
        },
        {
          "output_type": "display_data",
          "data": {
            "text/plain": [
              "<Figure size 432x288 with 1 Axes>"
            ],
            "image/png": "[encoded data removed]"
          },
          "metadata": {
            "needs_background": "light"
          }
        }
      ]
    },
    {
      "cell_type": "code",
      "source": [
        "print(np.argmax(prediction2, axis=1))"
      ],
      "metadata": {
        "colab": {
          "base_uri": "https://localhost:8080/"
        },
        "id": "Pf4mSxHeO2tI",
        "outputId": "69764e7c-3811-4ac7-e1f8-8edda9ce29ad"
      },
      "execution_count": 25,
      "outputs": [
        {
          "output_type": "stream",
          "name": "stdout",
          "text": [
            "[9]\n"
          ]
        }
      ]
    },
    {
      "cell_type": "code",
      "source": [
        "np.argmax(y_test[5100:5101])"
      ],
      "metadata": {
        "colab": {
          "base_uri": "https://localhost:8080/"
        },
        "id": "4sL9UNX4O6Fh",
        "outputId": "a601857f-c592-4ccc-b684-b0440bfa4e1a"
      },
      "execution_count": 26,
      "outputs": [
        {
          "output_type": "execute_result",
          "data": {
            "text/plain": [
              "9"
            ]
          },
          "metadata": {},
          "execution_count": 26
        }
      ]
    },
    {
      "cell_type": "markdown",
      "source": [
        "## Metrics after Testing"
      ],
      "metadata": {
        "id": "RjUAOr4hr9bo"
      }
    },
    {
      "cell_type": "code",
      "source": [
        "metrics = model.evaluate(X_test, y_test, verbose=0)\n",
        "print('Test Accuracy: ', metrics[1])\n",
        "print('Test Loss: ', metrics[0])"
      ],
      "metadata": {
        "id": "YUIL2sllsANB",
        "colab": {
          "base_uri": "https://localhost:8080/"
        },
        "outputId": "1a9c4ac6-be29-4142-db0c-8f954d4cd88f"
      },
      "execution_count": 27,
      "outputs": [
        {
          "output_type": "stream",
          "name": "stdout",
          "text": [
            "Test Accuracy:  0.9754999876022339\n",
            "Test Loss:  0.10858014971017838\n"
          ]
        }
      ]
    },
    {
      "cell_type": "markdown",
      "source": [
        "## Save the model"
      ],
      "metadata": {
        "id": "hdpnrfPMsD02"
      }
    },
    {
      "cell_type": "code",
      "source": [
        "model.save('models/mnist_digit_recog_cnn.h5')"
      ],
      "metadata": {
        "id": "JJvztgG5uIQ3"
      },
      "execution_count": 28,
      "outputs": []
    }
  ]
}